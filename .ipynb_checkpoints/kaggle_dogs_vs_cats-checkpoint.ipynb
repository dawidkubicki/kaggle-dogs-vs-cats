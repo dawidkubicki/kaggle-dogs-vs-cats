{
 "cells": [
  {
   "cell_type": "markdown",
   "metadata": {
    "colab_type": "text",
    "id": "view-in-github"
   },
   "source": [
    "<a href=\"https://colab.research.google.com/github/dawidkubicki/kaggle-dogs-vs-cats/blob/main/kaggle_dogs_vs_cats.ipynb\" target=\"_parent\"><img src=\"https://colab.research.google.com/assets/colab-badge.svg\" alt=\"Open In Colab\"/></a>"
   ]
  },
  {
   "cell_type": "code",
   "execution_count": 3,
   "metadata": {
    "colab": {
     "base_uri": "https://localhost:8080/",
     "height": 35
    },
    "id": "5THuN9Ug4rDM",
    "outputId": "b81c3e01-e08f-4707-c794-e35beb949fb0"
   },
   "outputs": [
    {
     "data": {
      "text/plain": [
       "'2.4.3'"
      ]
     },
     "execution_count": 3,
     "metadata": {},
     "output_type": "execute_result"
    }
   ],
   "source": [
    "import keras\n",
    "keras.__version__"
   ]
  },
  {
   "cell_type": "markdown",
   "metadata": {
    "id": "yD4y6vsr8x97"
   },
   "source": [
    "### Google Colab actions"
   ]
  },
  {
   "cell_type": "code",
   "execution_count": 15,
   "metadata": {
    "colab": {
     "base_uri": "https://localhost:8080/"
    },
    "id": "tIclbBXM82wK",
    "outputId": "18528613-da7a-496e-b8ef-2a5d502f7f48"
   },
   "outputs": [],
   "source": [
    "# from google.colab import drive\n",
    "# drive.mount('/content/gdrive')"
   ]
  },
  {
   "cell_type": "code",
   "execution_count": 16,
   "metadata": {
    "colab": {
     "base_uri": "https://localhost:8080/"
    },
    "id": "txcebWUg83zq",
    "outputId": "47c85694-9405-411b-9565-9bc517211c76"
   },
   "outputs": [],
   "source": [
    "# import os\n",
    "#\n",
    "# root_dir = \"/content/gdrive/My Drive/Colab Notebooks/delepy/projects\"\n",
    "#\n",
    "# def create_and_set_working_directory(root_dir):\n",
    "#   if os.path.isdir(root_dir) == True:\n",
    "#     print(\"Path correcct 😊\")\n",
    "#   else:\n",
    "#     print(\"Incorrect path ☠️\")\n",
    "#     os.mkdir(root_dir)\n",
    "#     print(root_dir + ' did not exist but was created.')\n",
    "#\n",
    "#   # change the OS to use your project folder as the working directory\n",
    "#   os.chdir(root_dir)\n",
    "#\n",
    "#   # create a test file to make sure it shows up in the right place\n",
    "#   !touch 'WORKING_DIRECTORY_JUST_TO_TEST_FILE.txt'\n",
    "#   print('\\nYour working directory was changed to ' + root_dir + \\\n",
    "#         \"\\n\\nAn empty text file was created there. You can also run !pwd to confirm the current working directory.\" )\n",
    "#\n",
    "# create_and_set_working_directory(root_dir)"
   ]
  },
  {
   "cell_type": "markdown",
   "metadata": {
    "id": "mwgb-_N15Tk0"
   },
   "source": [
    "## Plan of attack\n",
    "### First of all I will train the model from the scratch. I'll use convolutional neural network on 2000 items without regularization. This will create a reference point. Then, I'll use data augmentation to increase accuracy of the model.\n",
    "#### In the end, it'll be good to try feature extraction with a previously trained network and a little bit of tunning if the final neural network."
   ]
  },
  {
   "cell_type": "code",
   "execution_count": 4,
   "metadata": {
    "id": "qwABQxWV6Xos",
    "pycharm": {
     "name": "#%%\n"
    }
   },
   "outputs": [
    {
     "name": "stdout",
     "output_type": "stream",
     "text": [
      "File created\n"
     ]
    }
   ],
   "source": [
    "import os, shutil\n",
    "import os.path\n",
    "\n",
    "#path to oryginal full downloaded dataset\n",
    "original_dataset_dir = '/Users/dawidkubicki/Documents/dataset/dogs-vs-cats'\n",
    "\n",
    "#directory where the new files will be included\n",
    "base_dir = '/Users/dawidkubicki/Documents/dataset/cats_and_dogs_small'\n",
    "\n",
    "if os.path.exists('/Users/dawidkubicki/Documents/dataset/cats_and_dogs_small'):\n",
    "    print (\"File exist\")\n",
    "else:\n",
    "    os.mkdir(base_dir)\n",
    "    print (\"File created\")"
   ]
  },
  {
   "cell_type": "markdown",
   "metadata": {},
   "source": [
    "### Let's create directories for subdatasets (training, validation and test)"
   ]
  },
  {
   "cell_type": "code",
   "execution_count": 5,
   "metadata": {
    "pycharm": {
     "name": "#%%\n"
    }
   },
   "outputs": [],
   "source": [
    "train_dir = os.path.join(base_dir, 'train')\n",
    "os.mkdir(train_dir)\n",
    "\n",
    "validation_dir = os.path.join(base_dir, 'validation')\n",
    "os.mkdir(validation_dir)\n",
    "\n",
    "test_dir = os.path.join(base_dir, 'test')\n",
    "os.mkdir(test_dir)"
   ]
  },
  {
   "cell_type": "markdown",
   "metadata": {},
   "source": [
    "### Catalogue with training set of cats photos"
   ]
  },
  {
   "cell_type": "code",
   "execution_count": 6,
   "metadata": {
    "pycharm": {
     "name": "#%%\n"
    }
   },
   "outputs": [],
   "source": [
    "train_cats_dir = os.path.join(train_dir, 'cats')\n",
    "os.mkdir(train_cats_dir)"
   ]
  },
  {
   "cell_type": "markdown",
   "metadata": {},
   "source": [
    "### Catalogue of training set of dogs photos"
   ]
  },
  {
   "cell_type": "code",
   "execution_count": 7,
   "metadata": {
    "pycharm": {
     "name": "#%%\n"
    }
   },
   "outputs": [],
   "source": [
    "train_dogs_dir = os.path.join(train_dir, 'dogs')\n",
    "os.mkdir(train_dogs_dir)"
   ]
  },
  {
   "cell_type": "markdown",
   "metadata": {},
   "source": [
    "### Catalogue of validation set of cats"
   ]
  },
  {
   "cell_type": "code",
   "execution_count": 8,
   "metadata": {
    "pycharm": {
     "name": "#%%\n"
    }
   },
   "outputs": [],
   "source": [
    "validation_cats_dir = os.path.join(validation_dir, 'cats')\n",
    "os.mkdir(validation_cats_dir)"
   ]
  },
  {
   "cell_type": "markdown",
   "metadata": {},
   "source": [
    "### Catalogue of validation set of dogs"
   ]
  },
  {
   "cell_type": "code",
   "execution_count": 9,
   "metadata": {
    "pycharm": {
     "name": "#%%\n"
    }
   },
   "outputs": [],
   "source": [
    "validation_dogs_dir = os.path.join(validation_dir, 'dogs')\n",
    "os.mkdir(validation_dogs_dir)\n"
   ]
  },
  {
   "cell_type": "markdown",
   "metadata": {
    "pycharm": {
     "name": "#%%\n"
    }
   },
   "source": [
    "### Catalogue of test set of cats"
   ]
  },
  {
   "cell_type": "code",
   "execution_count": 11,
   "metadata": {},
   "outputs": [
    {
     "ename": "FileExistsError",
     "evalue": "[Errno 17] File exists: '/Users/dawidkubicki/Documents/dataset/cats_and_dogs_small/test/cats'",
     "output_type": "error",
     "traceback": [
      "\u001b[0;31m---------------------------------------------------------------------------\u001b[0m",
      "\u001b[0;31mFileExistsError\u001b[0m                           Traceback (most recent call last)",
      "\u001b[0;32m<ipython-input-11-7ccc870cf008>\u001b[0m in \u001b[0;36m<module>\u001b[0;34m\u001b[0m\n\u001b[1;32m      1\u001b[0m \u001b[0mtest_cats_dir\u001b[0m \u001b[0;34m=\u001b[0m \u001b[0mos\u001b[0m\u001b[0;34m.\u001b[0m\u001b[0mpath\u001b[0m\u001b[0;34m.\u001b[0m\u001b[0mjoin\u001b[0m\u001b[0;34m(\u001b[0m\u001b[0mtest_dir\u001b[0m\u001b[0;34m,\u001b[0m \u001b[0;34m'cats'\u001b[0m\u001b[0;34m)\u001b[0m\u001b[0;34m\u001b[0m\u001b[0;34m\u001b[0m\u001b[0m\n\u001b[0;32m----> 2\u001b[0;31m \u001b[0mos\u001b[0m\u001b[0;34m.\u001b[0m\u001b[0mmkdir\u001b[0m\u001b[0;34m(\u001b[0m\u001b[0mtest_cats_dir\u001b[0m\u001b[0;34m)\u001b[0m\u001b[0;34m\u001b[0m\u001b[0;34m\u001b[0m\u001b[0m\n\u001b[0m",
      "\u001b[0;31mFileExistsError\u001b[0m: [Errno 17] File exists: '/Users/dawidkubicki/Documents/dataset/cats_and_dogs_small/test/cats'"
     ]
    }
   ],
   "source": [
    "test_cats_dir = os.path.join(test_dir, 'cats')\n",
    "os.mkdir(test_cats_dir)"
   ]
  },
  {
   "cell_type": "markdown",
   "metadata": {},
   "source": [
    "### Catalogue of test set of dogs"
   ]
  },
  {
   "cell_type": "code",
   "execution_count": 12,
   "metadata": {},
   "outputs": [],
   "source": [
    "test_dogs_dir = os.path.join(test_dir, 'dogs')\n",
    "os.mkdir(test_dogs_dir)"
   ]
  },
  {
   "cell_type": "markdown",
   "metadata": {},
   "source": [
    "### Copy 1000 first images of cats to train_cats_dir"
   ]
  },
  {
   "cell_type": "code",
   "execution_count": 16,
   "metadata": {},
   "outputs": [],
   "source": [
    "fnames = ['cat.{}.jpg'.format(i) for i in range(1000)]\n",
    "for fname in fnames:\n",
    "        src = os.path.join(original_dataset_dir+'/train', fname)\n",
    "        dst = os.path.join(train_cats_dir, fname)\n",
    "        shutil.copyfile(src, dst)"
   ]
  },
  {
   "cell_type": "markdown",
   "metadata": {},
   "source": [
    "### Copy 500 next images of cats to validation_cats_dir"
   ]
  },
  {
   "cell_type": "code",
   "execution_count": 17,
   "metadata": {},
   "outputs": [],
   "source": [
    "fnames = ['cat.{}.jpg'.format(i) for i in range(1500,2000)]\n",
    "for fname in fnames:\n",
    "        src = os.path.join(original_dataset_dir+'/train', fname)\n",
    "        dst = os.path.join(validation_cats_dir, fname)\n",
    "        shutil.copyfile(src, dst)"
   ]
  },
  {
   "cell_type": "markdown",
   "metadata": {},
   "source": [
    "### Copy 500 next images of cats to test_cats_dir"
   ]
  },
  {
   "cell_type": "code",
   "execution_count": 18,
   "metadata": {},
   "outputs": [],
   "source": [
    "fnames = ['cat.{}.jpg'.format(i) for i in range(2000,2500)]\n",
    "for fname in fnames:\n",
    "        src = os.path.join(original_dataset_dir+'/train', fname)\n",
    "        dst = os.path.join(test_cats_dir, fname)\n",
    "        shutil.copyfile(src, dst)"
   ]
  },
  {
   "cell_type": "markdown",
   "metadata": {},
   "source": [
    "### Copy 1000 first images of dogs to train_dogs_dir"
   ]
  },
  {
   "cell_type": "code",
   "execution_count": 19,
   "metadata": {},
   "outputs": [],
   "source": [
    "fnames = ['dog.{}.jpg'.format(i) for i in range(1000)]\n",
    "for fname in fnames:\n",
    "        src = os.path.join(original_dataset_dir+'/train', fname)\n",
    "        dst = os.path.join(train_dogs_dir, fname)\n",
    "        shutil.copyfile(src, dst)"
   ]
  },
  {
   "cell_type": "markdown",
   "metadata": {},
   "source": [
    "### Copy 500 next images of dogs to validation_dogs_dir"
   ]
  },
  {
   "cell_type": "code",
   "execution_count": 21,
   "metadata": {},
   "outputs": [],
   "source": [
    "fnames = ['dog.{}.jpg'.format(i) for i in range(1500,2000)]\n",
    "for fname in fnames:\n",
    "        src = os.path.join(original_dataset_dir+'/train', fname)\n",
    "        dst = os.path.join(validation_dogs_dir, fname)\n",
    "        shutil.copyfile(src, dst)"
   ]
  },
  {
   "cell_type": "markdown",
   "metadata": {},
   "source": [
    "### Copy 500 next images of dogs to test_dogs_dir"
   ]
  },
  {
   "cell_type": "code",
   "execution_count": 22,
   "metadata": {},
   "outputs": [],
   "source": [
    "fnames = ['dog.{}.jpg'.format(i) for i in range(2000,2500)]\n",
    "for fname in fnames:\n",
    "        src = os.path.join(original_dataset_dir+'/train', fname)\n",
    "        dst = os.path.join(test_dogs_dir, fname)\n",
    "        shutil.copyfile(src, dst)"
   ]
  },
  {
   "cell_type": "markdown",
   "metadata": {},
   "source": [
    "### Let's check how many images we have in our new dataset"
   ]
  },
  {
   "cell_type": "code",
   "execution_count": 23,
   "metadata": {},
   "outputs": [
    {
     "name": "stdout",
     "output_type": "stream",
     "text": [
      "Number of training images of cats 1000\n"
     ]
    }
   ],
   "source": [
    "print('Number of training images of cats', len(os.listdir(train_cats_dir)))"
   ]
  },
  {
   "cell_type": "code",
   "execution_count": 24,
   "metadata": {},
   "outputs": [
    {
     "name": "stdout",
     "output_type": "stream",
     "text": [
      "Number of training images of dogs 1000\n"
     ]
    }
   ],
   "source": [
    "print('Number of training images of dogs', len(os.listdir(train_dogs_dir)))"
   ]
  },
  {
   "cell_type": "code",
   "execution_count": 25,
   "metadata": {},
   "outputs": [
    {
     "name": "stdout",
     "output_type": "stream",
     "text": [
      "Number of validation images of cats 500\n"
     ]
    }
   ],
   "source": [
    "print('Number of validation images of cats', len(os.listdir(validation_cats_dir)))"
   ]
  },
  {
   "cell_type": "code",
   "execution_count": 26,
   "metadata": {},
   "outputs": [
    {
     "name": "stdout",
     "output_type": "stream",
     "text": [
      "Number of validation images of dogs 500\n"
     ]
    }
   ],
   "source": [
    "print('Number of validation images of dogs', len(os.listdir(validation_dogs_dir)))"
   ]
  },
  {
   "cell_type": "code",
   "execution_count": 27,
   "metadata": {},
   "outputs": [
    {
     "name": "stdout",
     "output_type": "stream",
     "text": [
      "Number of test images of cats 500\n"
     ]
    }
   ],
   "source": [
    "print('Number of test images of cats', len(os.listdir(test_cats_dir)))"
   ]
  },
  {
   "cell_type": "code",
   "execution_count": 28,
   "metadata": {},
   "outputs": [
    {
     "name": "stdout",
     "output_type": "stream",
     "text": [
      "Number of test images of dogs 500\n"
     ]
    }
   ],
   "source": [
    "print('Number of test images of dogs', len(os.listdir(validation_dogs_dir)))"
   ]
  }
 ],
 "metadata": {
  "accelerator": "GPU",
  "colab": {
   "authorship_tag": "ABX9TyOw5h0eVhpllQd8xVyOFk1X",
   "collapsed_sections": [],
   "include_colab_link": true,
   "name": "kaggle-dogs-vs-cats.ipynb",
   "provenance": []
  },
  "kernelspec": {
   "display_name": "Python 3",
   "language": "python",
   "name": "python3"
  },
  "language_info": {
   "codemirror_mode": {
    "name": "ipython",
    "version": 3
   },
   "file_extension": ".py",
   "mimetype": "text/x-python",
   "name": "python",
   "nbconvert_exporter": "python",
   "pygments_lexer": "ipython3",
   "version": "3.8.5"
  }
 },
 "nbformat": 4,
 "nbformat_minor": 1
}
