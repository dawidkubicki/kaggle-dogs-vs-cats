{
 "cells": [
  {
   "cell_type": "markdown",
   "metadata": {
    "colab_type": "text",
    "id": "view-in-github"
   },
   "source": [
    "<a href=\"https://colab.research.google.com/github/dawidkubicki/kaggle-dogs-vs-cats/blob/main/kaggle_dogs_vs_cats.ipynb\" target=\"_parent\"><img src=\"https://colab.research.google.com/assets/colab-badge.svg\" alt=\"Open In Colab\"/></a>"
   ]
  },
  {
   "cell_type": "code",
   "execution_count": null,
   "metadata": {
    "colab": {
     "base_uri": "https://localhost:8080/",
     "height": 35
    },
    "id": "5THuN9Ug4rDM",
    "outputId": "b81c3e01-e08f-4707-c794-e35beb949fb0",
    "pycharm": {
     "is_executing": true
    }
   },
   "outputs": [],
   "source": [
    "import keras\n",
    "keras.__version__"
   ]
  },
  {
   "cell_type": "markdown",
   "metadata": {
    "id": "yD4y6vsr8x97"
   },
   "source": [
    "### Google Colab actions"
   ]
  },
  {
   "cell_type": "code",
   "execution_count": 13,
   "metadata": {
    "colab": {
     "base_uri": "https://localhost:8080/"
    },
    "id": "tIclbBXM82wK",
    "outputId": "18528613-da7a-496e-b8ef-2a5d502f7f48"
   },
   "outputs": [],
   "source": [
    "# from google.colab import drive\n",
    "# drive.mount('/content/gdrive')"
   ]
  },
  {
   "cell_type": "code",
   "execution_count": 14,
   "metadata": {
    "colab": {
     "base_uri": "https://localhost:8080/"
    },
    "id": "txcebWUg83zq",
    "outputId": "47c85694-9405-411b-9565-9bc517211c76"
   },
   "outputs": [],
   "source": [
    "# import os\n",
    "#\n",
    "# root_dir = \"/content/gdrive/My Drive/Colab Notebooks/delepy/projects\"\n",
    "#\n",
    "# def create_and_set_working_directory(root_dir):\n",
    "#   if os.path.isdir(root_dir) == True:\n",
    "#     print(\"Path correcct 😊\")\n",
    "#   else:\n",
    "#     print(\"Incorrect path ☠️\")\n",
    "#     os.mkdir(root_dir)\n",
    "#     print(root_dir + ' did not exist but was created.')\n",
    "#\n",
    "#   # change the OS to use your project folder as the working directory\n",
    "#   os.chdir(root_dir)\n",
    "#\n",
    "#   # create a test file to make sure it shows up in the right place\n",
    "#   !touch 'WORKING_DIRECTORY_JUST_TO_TEST_FILE.txt'\n",
    "#   print('\\nYour working directory was changed to ' + root_dir + \\\n",
    "#         \"\\n\\nAn empty text file was created there. You can also run !pwd to confirm the current working directory.\" )\n",
    "#\n",
    "# create_and_set_working_directory(root_dir)"
   ]
  },
  {
   "cell_type": "markdown",
   "metadata": {
    "id": "mwgb-_N15Tk0"
   },
   "source": [
    "## Plan of attack\n",
    "### First of all I will train the model from the scratch. I'll use convolutional neural network on 2000 items without regularization. This will create a reference point. Then, I'll use data augmentation to increase accuracy of the model.\n",
    "#### In the end, it'll be good to try feature extraction with a previously trained network and a little bit of tunning if the final neural network."
   ]
  },
  {
   "cell_type": "code",
   "execution_count": 4,
   "metadata": {
    "id": "qwABQxWV6Xos",
    "pycharm": {
     "name": "#%%\n"
    }
   },
   "outputs": [
    {
     "name": "stdout",
     "output_type": "stream",
     "text": [
      "File created\n"
     ]
    }
   ],
   "source": [
    "import os, shutil\n",
    "import os.path\n",
    "\n",
    "#path to oryginal full downloaded dataset\n",
    "original_dataset_dir = '/Users/dawidkubicki/Documents/dataset/dogs-vs-cats'\n",
    "\n",
    "#directory where the new files will be included\n",
    "base_dir = '/Users/dawidkubicki/Documents/dataset/cats_and_dogs_small'\n",
    "\n",
    "if os.path.exists('/Users/dawidkubicki/Documents/dataset/cats_and_dogs_small'):\n",
    "    print (\"File exist\")\n",
    "else:\n",
    "    os.mkdir(base_dir)\n",
    "    print (\"File created\")"
   ]
  },
  {
   "cell_type": "markdown",
   "metadata": {},
   "source": [
    "### Let's create directories for subdatasets (training, validation and test)"
   ]
  },
  {
   "cell_type": "code",
   "execution_count": 5,
   "metadata": {
    "pycharm": {
     "name": "#%%\n"
    }
   },
   "outputs": [],
   "source": [
    "train_dir = os.path.join(base_dir, 'train')\n",
    "os.mkdir(train_dir)\n",
    "\n",
    "validation_dir = os.path.join(base_dir, 'validation')\n",
    "os.mkdir(validation_dir)\n",
    "\n",
    "test_dir = os.path.join(base_dir, 'test')\n",
    "os.mkdir(test_dir)"
   ]
  },
  {
   "cell_type": "markdown",
   "metadata": {},
   "source": [
    "### Catalogue with training set of cats photos"
   ]
  },
  {
   "cell_type": "code",
   "execution_count": 6,
   "metadata": {
    "pycharm": {
     "name": "#%%\n"
    }
   },
   "outputs": [],
   "source": [
    "train_cats_dir = os.path.join(train_dir, 'cats')\n",
    "os.mkdir(train_cats_dir)"
   ]
  },
  {
   "cell_type": "markdown",
   "metadata": {},
   "source": [
    "### Catalogue of training set of dogs photos"
   ]
  },
  {
   "cell_type": "code",
   "execution_count": 7,
   "metadata": {
    "pycharm": {
     "name": "#%%\n"
    }
   },
   "outputs": [],
   "source": [
    "train_dogs_dir = os.path.join(train_dir, 'dogs')\n",
    "os.mkdir(train_dogs_dir)"
   ]
  },
  {
   "cell_type": "markdown",
   "metadata": {},
   "source": [
    "### Catalogue of validation set of cats"
   ]
  },
  {
   "cell_type": "code",
   "execution_count": 8,
   "metadata": {
    "pycharm": {
     "name": "#%%\n"
    }
   },
   "outputs": [],
   "source": [
    "validation_cats_dir = os.path.join(validation_dir, 'cats')\n",
    "os.mkdir(validation_cats_dir)"
   ]
  },
  {
   "cell_type": "markdown",
   "metadata": {},
   "source": [
    "### Catalogue of validation set of dogs"
   ]
  },
  {
   "cell_type": "code",
   "execution_count": 9,
   "metadata": {
    "pycharm": {
     "name": "#%%\n"
    }
   },
   "outputs": [],
   "source": [
    "validation_dogs_dir = os.path.join(validation_dir, 'dogs')\n",
    "os.mkdir(validation_dogs_dir)\n"
   ]
  },
  {
   "cell_type": "markdown",
   "metadata": {
    "pycharm": {
     "name": "#%%\n"
    }
   },
   "source": [
    "### Catalogue of test set of cats"
   ]
  },
  {
   "cell_type": "code",
   "execution_count": 10,
   "metadata": {},
   "outputs": [],
   "source": [
    "test_cats_dir = os.path.join(test_dir, 'cats')\n",
    "os.mkdir(test_cats_dir)"
   ]
  },
  {
   "cell_type": "markdown",
   "metadata": {},
   "source": [
    "### Catalogue of test set of dogs"
   ]
  },
  {
   "cell_type": "code",
   "execution_count": 11,
   "metadata": {},
   "outputs": [],
   "source": [
    "test_dogs_dir = os.path.join(test_dir, 'dogs')\n",
    "os.mkdir(test_dogs_dir)"
   ]
  },
  {
   "cell_type": "markdown",
   "metadata": {},
   "source": [
    "### Copy 1000 first images of cats to train_cats_dir"
   ]
  },
  {
   "cell_type": "code",
   "execution_count": 12,
   "metadata": {},
   "outputs": [],
   "source": [
    "fnames = ['cat.{}.jpg'.format(i) for i in range(1000)]\n",
    "for fname in fnames:\n",
    "        src = os.path.join(original_dataset_dir+'/train', fname)\n",
    "        dst = os.path.join(train_cats_dir, fname)\n",
    "        shutil.copyfile(src, dst)"
   ]
  },
  {
   "cell_type": "markdown",
   "metadata": {},
   "source": [
    "### Copy 500 next images of cats to validation_cats_dir"
   ]
  },
  {
   "cell_type": "code",
   "execution_count": 13,
   "metadata": {},
   "outputs": [],
   "source": [
    "fnames = ['cat.{}.jpg'.format(i) for i in range(1500,2000)]\n",
    "for fname in fnames:\n",
    "        src = os.path.join(original_dataset_dir+'/train', fname)\n",
    "        dst = os.path.join(validation_cats_dir, fname)\n",
    "        shutil.copyfile(src, dst)"
   ]
  },
  {
   "cell_type": "markdown",
   "metadata": {},
   "source": [
    "### Copy 500 next images of cats to test_cats_dir"
   ]
  },
  {
   "cell_type": "code",
   "execution_count": 14,
   "metadata": {},
   "outputs": [],
   "source": [
    "fnames = ['cat.{}.jpg'.format(i) for i in range(2000,2500)]\n",
    "for fname in fnames:\n",
    "        src = os.path.join(original_dataset_dir+'/train', fname)\n",
    "        dst = os.path.join(test_cats_dir, fname)\n",
    "        shutil.copyfile(src, dst)"
   ]
  },
  {
   "cell_type": "markdown",
   "metadata": {},
   "source": [
    "### Copy 1000 first images of dogs to train_dogs_dir"
   ]
  },
  {
   "cell_type": "code",
   "execution_count": 15,
   "metadata": {},
   "outputs": [],
   "source": [
    "fnames = ['dog.{}.jpg'.format(i) for i in range(1000)]\n",
    "for fname in fnames:\n",
    "        src = os.path.join(original_dataset_dir+'/train', fname)\n",
    "        dst = os.path.join(train_dogs_dir, fname)\n",
    "        shutil.copyfile(src, dst)"
   ]
  },
  {
   "cell_type": "markdown",
   "metadata": {},
   "source": [
    "### Copy 500 next images of dogs to validation_dogs_dir"
   ]
  },
  {
   "cell_type": "code",
   "execution_count": 16,
   "metadata": {},
   "outputs": [],
   "source": [
    "fnames = ['dog.{}.jpg'.format(i) for i in range(1500,2000)]\n",
    "for fname in fnames:\n",
    "        src = os.path.join(original_dataset_dir+'/train', fname)\n",
    "        dst = os.path.join(validation_dogs_dir, fname)\n",
    "        shutil.copyfile(src, dst)"
   ]
  },
  {
   "cell_type": "markdown",
   "metadata": {},
   "source": [
    "### Copy 500 next images of dogs to test_dogs_dir"
   ]
  },
  {
   "cell_type": "code",
   "execution_count": 17,
   "metadata": {},
   "outputs": [],
   "source": [
    "fnames = ['dog.{}.jpg'.format(i) for i in range(2000,2500)]\n",
    "for fname in fnames:\n",
    "        src = os.path.join(original_dataset_dir+'/train', fname)\n",
    "        dst = os.path.join(test_dogs_dir, fname)\n",
    "        shutil.copyfile(src, dst)"
   ]
  },
  {
   "cell_type": "markdown",
   "metadata": {},
   "source": [
    "### Let's check how many images we have in our new dataset"
   ]
  },
  {
   "cell_type": "code",
   "execution_count": 18,
   "metadata": {},
   "outputs": [
    {
     "name": "stdout",
     "output_type": "stream",
     "text": [
      "Number of training images of cats 1000\n"
     ]
    }
   ],
   "source": [
    "print('Number of training images of cats', len(os.listdir(train_cats_dir)))"
   ]
  },
  {
   "cell_type": "code",
   "execution_count": 19,
   "metadata": {},
   "outputs": [
    {
     "name": "stdout",
     "output_type": "stream",
     "text": [
      "Number of training images of dogs 1000\n"
     ]
    }
   ],
   "source": [
    "print('Number of training images of dogs', len(os.listdir(train_dogs_dir)))"
   ]
  },
  {
   "cell_type": "code",
   "execution_count": 20,
   "metadata": {},
   "outputs": [
    {
     "name": "stdout",
     "output_type": "stream",
     "text": [
      "Number of validation images of cats 500\n"
     ]
    }
   ],
   "source": [
    "print('Number of validation images of cats', len(os.listdir(validation_cats_dir)))"
   ]
  },
  {
   "cell_type": "code",
   "execution_count": 21,
   "metadata": {},
   "outputs": [
    {
     "name": "stdout",
     "output_type": "stream",
     "text": [
      "Number of validation images of dogs 500\n"
     ]
    }
   ],
   "source": [
    "print('Number of validation images of dogs', len(os.listdir(validation_dogs_dir)))"
   ]
  },
  {
   "cell_type": "code",
   "execution_count": 22,
   "metadata": {},
   "outputs": [
    {
     "name": "stdout",
     "output_type": "stream",
     "text": [
      "Number of test images of cats 500\n"
     ]
    }
   ],
   "source": [
    "print('Number of test images of cats', len(os.listdir(test_cats_dir)))"
   ]
  },
  {
   "cell_type": "code",
   "execution_count": 23,
   "metadata": {},
   "outputs": [
    {
     "name": "stdout",
     "output_type": "stream",
     "text": [
      "Number of test images of dogs 500\n"
     ]
    }
   ],
   "source": [
    "print('Number of test images of dogs', len(os.listdir(validation_dogs_dir)))"
   ]
  },
  {
   "cell_type": "markdown",
   "metadata": {},
   "source": [
    "### Neural network creation"
   ]
  },
  {
   "cell_type": "code",
   "execution_count": 24,
   "metadata": {},
   "outputs": [],
   "source": [
    "from keras import layers\n",
    "from keras import models\n",
    "\n",
    "model = models.Sequential()\n",
    "model.add(layers.Conv2D(32, (3, 3), activation='relu',input_shape=(150, 150, 3)))\n",
    "model.add(layers.MaxPooling2D((2,2)))\n",
    "model.add(layers.Conv2D(64, (3, 3), activation='relu'))\n",
    "model.add(layers.MaxPooling2D((2,2)))\n",
    "model.add(layers.Conv2D(128, (3, 3), activation='relu'))\n",
    "model.add(layers.MaxPooling2D((2,2)))\n",
    "model.add(layers.Conv2D(128, (3, 3), activation='relu'))\n",
    "model.add(layers.MaxPooling2D((2,2)))\n",
    "model.add(layers.Flatten())\n",
    "\n",
    "model.add(layers.Dense(512, activation='relu'))\n",
    "model.add(layers.Dense(1, activation='sigmoid'))"
   ]
  },
  {
   "cell_type": "code",
   "execution_count": 25,
   "metadata": {},
   "outputs": [
    {
     "name": "stdout",
     "output_type": "stream",
     "text": [
      "Model: \"sequential\"\n",
      "_________________________________________________________________\n",
      "Layer (type)                 Output Shape              Param #   \n",
      "=================================================================\n",
      "conv2d (Conv2D)              (None, 148, 148, 32)      896       \n",
      "_________________________________________________________________\n",
      "max_pooling2d (MaxPooling2D) (None, 74, 74, 32)        0         \n",
      "_________________________________________________________________\n",
      "conv2d_1 (Conv2D)            (None, 72, 72, 64)        18496     \n",
      "_________________________________________________________________\n",
      "max_pooling2d_1 (MaxPooling2 (None, 36, 36, 64)        0         \n",
      "_________________________________________________________________\n",
      "conv2d_2 (Conv2D)            (None, 34, 34, 128)       73856     \n",
      "_________________________________________________________________\n",
      "max_pooling2d_2 (MaxPooling2 (None, 17, 17, 128)       0         \n",
      "_________________________________________________________________\n",
      "conv2d_3 (Conv2D)            (None, 15, 15, 128)       147584    \n",
      "_________________________________________________________________\n",
      "max_pooling2d_3 (MaxPooling2 (None, 7, 7, 128)         0         \n",
      "_________________________________________________________________\n",
      "flatten (Flatten)            (None, 6272)              0         \n",
      "_________________________________________________________________\n",
      "dense (Dense)                (None, 512)               3211776   \n",
      "_________________________________________________________________\n",
      "dense_1 (Dense)              (None, 1)                 513       \n",
      "=================================================================\n",
      "Total params: 3,453,121\n",
      "Trainable params: 3,453,121\n",
      "Non-trainable params: 0\n",
      "_________________________________________________________________\n"
     ]
    }
   ],
   "source": [
    "model.summary()"
   ]
  },
  {
   "cell_type": "code",
   "execution_count": 26,
   "metadata": {},
   "outputs": [],
   "source": [
    "from keras import optimizers\n",
    "\n",
    "model.compile(loss='binary_crossentropy',\n",
    "             optimizer=optimizers.RMSprop(lr=1e-4),\n",
    "             metrics=['acc'])"
   ]
  },
  {
   "cell_type": "markdown",
   "metadata": {},
   "source": [
    "### Load images with ImageDataDenerator class from Keras"
   ]
  },
  {
   "cell_type": "code",
   "execution_count": 27,
   "metadata": {},
   "outputs": [
    {
     "name": "stdout",
     "output_type": "stream",
     "text": [
      "Found 2000 images belonging to 2 classes.\n",
      "Found 1000 images belonging to 2 classes.\n"
     ]
    }
   ],
   "source": [
    "from keras.preprocessing.image import ImageDataGenerator\n",
    "\n",
    "#rescale pixel values from 0-255 to [0-1] range, because it's easier to nn to work with small inputs\n",
    "train_datagen = ImageDataGenerator(rescale=1./255)\n",
    "test_datagen = ImageDataGenerator(rescale=1./255)\n",
    "\n",
    "train_generator = train_datagen.flow_from_directory(\n",
    "    train_dir,\n",
    "    target_size=(150,150),\n",
    "    batch_size=20,\n",
    "    class_mode='binary'\n",
    ")\n",
    "\n",
    "validation_generator = train_datagen.flow_from_directory(\n",
    "    validation_dir,\n",
    "    target_size=(150,150),\n",
    "    batch_size=20,\n",
    "    class_mode='binary'\n",
    ")\n"
   ]
  },
  {
   "cell_type": "markdown",
   "metadata": {},
   "source": [
    "### Fit the model with generating batches"
   ]
  },
  {
   "cell_type": "code",
   "execution_count": 28,
   "metadata": {},
   "outputs": [
    {
     "name": "stdout",
     "output_type": "stream",
     "text": [
      "Epoch 1/30\n",
      "100/100 [==============================] - 32s 322ms/step - loss: 0.6911 - acc: 0.5375 - val_loss: 0.6922 - val_acc: 0.5050\n",
      "Epoch 2/30\n",
      "100/100 [==============================] - 32s 320ms/step - loss: 0.6469 - acc: 0.6375 - val_loss: 0.6287 - val_acc: 0.6460\n",
      "Epoch 3/30\n",
      "100/100 [==============================] - 32s 319ms/step - loss: 0.5978 - acc: 0.6675 - val_loss: 0.6147 - val_acc: 0.6600\n",
      "Epoch 4/30\n",
      "100/100 [==============================] - 31s 315ms/step - loss: 0.5510 - acc: 0.7130 - val_loss: 0.6529 - val_acc: 0.6230\n",
      "Epoch 5/30\n",
      "100/100 [==============================] - 31s 315ms/step - loss: 0.5284 - acc: 0.7365 - val_loss: 0.6142 - val_acc: 0.6670\n",
      "Epoch 6/30\n",
      "100/100 [==============================] - 31s 312ms/step - loss: 0.4991 - acc: 0.7570 - val_loss: 0.5624 - val_acc: 0.7170\n",
      "Epoch 7/30\n",
      "100/100 [==============================] - 33s 331ms/step - loss: 0.4688 - acc: 0.7850 - val_loss: 0.5682 - val_acc: 0.7180\n",
      "Epoch 8/30\n",
      "100/100 [==============================] - 33s 334ms/step - loss: 0.4395 - acc: 0.7900 - val_loss: 0.5623 - val_acc: 0.7120\n",
      "Epoch 9/30\n",
      "100/100 [==============================] - 32s 322ms/step - loss: 0.4104 - acc: 0.8220 - val_loss: 0.5841 - val_acc: 0.7110\n",
      "Epoch 10/30\n",
      "100/100 [==============================] - 31s 312ms/step - loss: 0.3905 - acc: 0.8230 - val_loss: 0.5616 - val_acc: 0.7220\n",
      "Epoch 11/30\n",
      "100/100 [==============================] - 31s 313ms/step - loss: 0.3647 - acc: 0.8435 - val_loss: 0.5550 - val_acc: 0.7360\n",
      "Epoch 12/30\n",
      "100/100 [==============================] - 31s 314ms/step - loss: 0.3397 - acc: 0.8530 - val_loss: 0.5844 - val_acc: 0.7140\n",
      "Epoch 13/30\n",
      "100/100 [==============================] - 31s 313ms/step - loss: 0.3159 - acc: 0.8700 - val_loss: 0.5591 - val_acc: 0.7440\n",
      "Epoch 14/30\n",
      "100/100 [==============================] - 31s 312ms/step - loss: 0.2907 - acc: 0.8810 - val_loss: 0.5632 - val_acc: 0.7320\n",
      "Epoch 15/30\n",
      "100/100 [==============================] - 32s 324ms/step - loss: 0.2634 - acc: 0.9035 - val_loss: 0.5738 - val_acc: 0.7480\n",
      "Epoch 16/30\n",
      "100/100 [==============================] - 32s 324ms/step - loss: 0.2420 - acc: 0.9095 - val_loss: 0.6236 - val_acc: 0.7220\n",
      "Epoch 17/30\n",
      "100/100 [==============================] - 32s 324ms/step - loss: 0.2227 - acc: 0.9105 - val_loss: 0.6104 - val_acc: 0.7350\n",
      "Epoch 18/30\n",
      "100/100 [==============================] - 32s 322ms/step - loss: 0.1954 - acc: 0.9270 - val_loss: 0.6471 - val_acc: 0.7130\n",
      "Epoch 19/30\n",
      "100/100 [==============================] - 33s 325ms/step - loss: 0.1714 - acc: 0.9370 - val_loss: 0.6778 - val_acc: 0.7300\n",
      "Epoch 20/30\n",
      "100/100 [==============================] - 32s 318ms/step - loss: 0.1524 - acc: 0.9445 - val_loss: 0.6997 - val_acc: 0.7250\n",
      "Epoch 21/30\n",
      "100/100 [==============================] - 32s 317ms/step - loss: 0.1365 - acc: 0.9570 - val_loss: 0.6975 - val_acc: 0.7260\n",
      "Epoch 22/30\n",
      "100/100 [==============================] - 32s 317ms/step - loss: 0.1176 - acc: 0.9650 - val_loss: 0.7821 - val_acc: 0.7110\n",
      "Epoch 23/30\n",
      "100/100 [==============================] - 32s 319ms/step - loss: 0.1087 - acc: 0.9695 - val_loss: 0.7734 - val_acc: 0.7390\n",
      "Epoch 24/30\n",
      "100/100 [==============================] - 32s 319ms/step - loss: 0.0884 - acc: 0.9765 - val_loss: 0.8776 - val_acc: 0.7150\n",
      "Epoch 25/30\n",
      "100/100 [==============================] - 32s 315ms/step - loss: 0.0828 - acc: 0.9775 - val_loss: 0.8041 - val_acc: 0.7240\n",
      "Epoch 26/30\n",
      "100/100 [==============================] - 32s 315ms/step - loss: 0.0614 - acc: 0.9840 - val_loss: 1.0035 - val_acc: 0.7170\n",
      "Epoch 27/30\n",
      "100/100 [==============================] - 32s 315ms/step - loss: 0.0575 - acc: 0.9845 - val_loss: 0.9423 - val_acc: 0.7400\n",
      "Epoch 28/30\n",
      "100/100 [==============================] - 32s 316ms/step - loss: 0.0526 - acc: 0.9835 - val_loss: 0.9293 - val_acc: 0.7170\n",
      "Epoch 29/30\n",
      "100/100 [==============================] - 32s 315ms/step - loss: 0.0347 - acc: 0.9920 - val_loss: 1.0394 - val_acc: 0.7140\n",
      "Epoch 30/30\n",
      "100/100 [==============================] - 31s 311ms/step - loss: 0.0368 - acc: 0.9935 - val_loss: 1.4882 - val_acc: 0.6910\n"
     ]
    }
   ],
   "source": [
    "history = model.fit(\n",
    "    train_generator,\n",
    "    steps_per_epoch=100,\n",
    "    epochs=30,\n",
    "    validation_data=validation_generator,\n",
    "    validation_steps=50\n",
    ")\n",
    "\n",
    "#model.save('cats_and_dogs_small_1.h5')"
   ]
  },
  {
   "cell_type": "code",
   "execution_count": 2,
   "metadata": {},
   "outputs": [
    {
     "ename": "NameError",
     "evalue": "name 'model' is not defined",
     "output_type": "error",
     "traceback": [
      "\u001b[0;31m---------------------------------------------------------------------------\u001b[0m",
      "\u001b[0;31mNameError\u001b[0m                                 Traceback (most recent call last)",
      "\u001b[0;32m<ipython-input-2-313fefc30a44>\u001b[0m in \u001b[0;36m<module>\u001b[0;34m\u001b[0m\n\u001b[0;32m----> 1\u001b[0;31m \u001b[0mmodel\u001b[0m\u001b[0;34m.\u001b[0m\u001b[0msave\u001b[0m\u001b[0;34m(\u001b[0m\u001b[0;34m'/Users/dawidkubicki/Documents/dataset/cats_and_dogs_small_1.h5'\u001b[0m\u001b[0;34m)\u001b[0m\u001b[0;34m\u001b[0m\u001b[0;34m\u001b[0m\u001b[0m\n\u001b[0m",
      "\u001b[0;31mNameError\u001b[0m: name 'model' is not defined"
     ]
    }
   ],
   "source": [
    "model.save('/Users/dawidkubicki/Documents/dataset/cats_and_dogs_small_1.h5')"
   ]
  },
  {
   "cell_type": "markdown",
   "metadata": {},
   "source": [
    "### Plots generating with cost and validation function during the training"
   ]
  },
  {
   "cell_type": "code",
   "execution_count": null,
   "metadata": {},
   "outputs": [],
   "source": [
    "import matplotlib.pyplot as plt\n",
    "\n",
    "acc = history.history['acc']\n",
    "val_acc = history.history['val_acc']\n",
    "loss = history.history['loss']\n",
    "val_loss = history.history['val_loss']\n",
    "\n",
    "epochs=range(len(acc))"
   ]
  }
 ],
 "metadata": {
  "accelerator": "GPU",
  "colab": {
   "authorship_tag": "ABX9TyOw5h0eVhpllQd8xVyOFk1X",
   "collapsed_sections": [],
   "include_colab_link": true,
   "name": "kaggle-dogs-vs-cats.ipynb",
   "provenance": []
  },
  "kernelspec": {
   "display_name": "Python 3",
   "language": "python",
   "name": "python3"
  },
  "language_info": {
   "codemirror_mode": {
    "name": "ipython",
    "version": 3
   },
   "file_extension": ".py",
   "mimetype": "text/x-python",
   "name": "python",
   "nbconvert_exporter": "python",
   "pygments_lexer": "ipython3",
   "version": "3.8.5"
  }
 },
 "nbformat": 4,
 "nbformat_minor": 1
}
