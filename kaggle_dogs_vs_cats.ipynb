{
 "cells": [
  {
   "cell_type": "markdown",
   "metadata": {
    "colab_type": "text",
    "id": "view-in-github"
   },
   "source": [
    "<a href=\"https://colab.research.google.com/github/dawidkubicki/kaggle-dogs-vs-cats/blob/main/kaggle_dogs_vs_cats.ipynb\" target=\"_parent\"><img src=\"https://colab.research.google.com/assets/colab-badge.svg\" alt=\"Open In Colab\"/></a>"
   ]
  },
  {
   "cell_type": "code",
   "execution_count": 2,
   "metadata": {
    "colab": {
     "base_uri": "https://localhost:8080/",
     "height": 35
    },
    "id": "5THuN9Ug4rDM",
    "outputId": "b81c3e01-e08f-4707-c794-e35beb949fb0"
   },
   "outputs": [
    {
     "data": {
      "text/plain": [
       "'2.4.3'"
      ]
     },
     "execution_count": 2,
     "metadata": {},
     "output_type": "execute_result"
    }
   ],
   "source": [
    "import keras\n",
    "keras.__version__"
   ]
  },
  {
   "cell_type": "markdown",
   "metadata": {
    "id": "yD4y6vsr8x97"
   },
   "source": [
    "### Google Colab actions"
   ]
  },
  {
   "cell_type": "code",
   "execution_count": 3,
   "metadata": {
    "colab": {
     "base_uri": "https://localhost:8080/"
    },
    "id": "tIclbBXM82wK",
    "outputId": "18528613-da7a-496e-b8ef-2a5d502f7f48"
   },
   "outputs": [],
   "source": [
    "# from google.colab import drive\n",
    "# drive.mount('/content/gdrive')"
   ]
  },
  {
   "cell_type": "code",
   "execution_count": 4,
   "metadata": {
    "colab": {
     "base_uri": "https://localhost:8080/"
    },
    "id": "txcebWUg83zq",
    "outputId": "47c85694-9405-411b-9565-9bc517211c76"
   },
   "outputs": [],
   "source": [
    "# import os\n",
    "#\n",
    "# root_dir = \"/content/gdrive/My Drive/Colab Notebooks/delepy/projects\"\n",
    "#\n",
    "# def create_and_set_working_directory(root_dir):\n",
    "#   if os.path.isdir(root_dir) == True:\n",
    "#     print(\"Path correcct 😊\")\n",
    "#   else:\n",
    "#     print(\"Incorrect path ☠️\")\n",
    "#     os.mkdir(root_dir)\n",
    "#     print(root_dir + ' did not exist but was created.')\n",
    "#\n",
    "#   # change the OS to use your project folder as the working directory\n",
    "#   os.chdir(root_dir)\n",
    "#\n",
    "#   # create a test file to make sure it shows up in the right place\n",
    "#   !touch 'WORKING_DIRECTORY_JUST_TO_TEST_FILE.txt'\n",
    "#   print('\\nYour working directory was changed to ' + root_dir + \\\n",
    "#         \"\\n\\nAn empty text file was created there. You can also run !pwd to confirm the current working directory.\" )\n",
    "#\n",
    "# create_and_set_working_directory(root_dir)"
   ]
  },
  {
   "cell_type": "markdown",
   "metadata": {
    "id": "mwgb-_N15Tk0"
   },
   "source": [
    "## Plan of attack\n",
    "### First of all I will train the model from the scratch. I'll use convolutional neural network on 2000 items without regularization. This will create a reference point. Then, I'll use data augmentation to increase accuracy of the model.\n",
    "#### In the end, it'll be good to try feature extraction with a previously trained network and a little bit of tunning if the final neural network."
   ]
  },
  {
   "cell_type": "code",
   "execution_count": 5,
   "metadata": {
    "id": "qwABQxWV6Xos",
    "pycharm": {
     "name": "#%%\n"
    }
   },
   "outputs": [
    {
     "name": "stdout",
     "output_type": "stream",
     "text": [
      "File created\n"
     ]
    }
   ],
   "source": [
    "import os, shutil\n",
    "import os.path\n",
    "\n",
    "#path to oryginal full downloaded dataset\n",
    "original_dataset_dir = '/Users/dawidkubicki/Documents/dataset/dogs-vs-cats'\n",
    "\n",
    "#directory where the new files will be included\n",
    "base_dir = '/Users/dawidkubicki/Documents/dataset/cats_and_dogs_small'\n",
    "\n",
    "if os.path.exists('/Users/dawidkubicki/Documents/dataset/cats_and_dogs_small'):\n",
    "    print (\"File exist\")\n",
    "else:\n",
    "    os.mkdir(base_dir)\n",
    "    print (\"File created\")"
   ]
  },
  {
   "cell_type": "markdown",
   "metadata": {},
   "source": [
    "### Let's create directories for subdatasets (training, validation and test)"
   ]
  },
  {
   "cell_type": "code",
   "execution_count": 6,
   "metadata": {
    "pycharm": {
     "name": "#%%\n"
    }
   },
   "outputs": [],
   "source": [
    "train_dir = os.path.join(base_dir, 'train')\n",
    "os.mkdir(train_dir)\n",
    "\n",
    "validation_dir = os.path.join(base_dir, 'validation')\n",
    "os.mkdir(validation_dir)\n",
    "\n",
    "test_dir = os.path.join(base_dir, 'test')\n",
    "os.mkdir(test_dir)"
   ]
  },
  {
   "cell_type": "markdown",
   "metadata": {},
   "source": [
    "### Catalogue with training set of cats photos"
   ]
  },
  {
   "cell_type": "code",
   "execution_count": 7,
   "metadata": {
    "pycharm": {
     "name": "#%%\n"
    }
   },
   "outputs": [],
   "source": [
    "train_cats_dir = os.path.join(train_dir, 'cats')\n",
    "os.mkdir(train_cats_dir)"
   ]
  },
  {
   "cell_type": "markdown",
   "metadata": {},
   "source": [
    "### Catalogue of training set of dogs photos"
   ]
  },
  {
   "cell_type": "code",
   "execution_count": 8,
   "metadata": {
    "pycharm": {
     "name": "#%%\n"
    }
   },
   "outputs": [],
   "source": [
    "train_dogs_dir = os.path.join(train_dir, 'dogs')\n",
    "os.mkdir(train_dogs_dir)"
   ]
  },
  {
   "cell_type": "markdown",
   "metadata": {},
   "source": [
    "### Catalogue of validation set of cats"
   ]
  },
  {
   "cell_type": "code",
   "execution_count": 9,
   "metadata": {
    "pycharm": {
     "name": "#%%\n"
    }
   },
   "outputs": [],
   "source": [
    "validation_cats_dir = os.path.join(validation_dir, 'cats')\n",
    "os.mkdir(validation_cats_dir)"
   ]
  },
  {
   "cell_type": "markdown",
   "metadata": {},
   "source": [
    "### Catalogue of validation set of dogs"
   ]
  },
  {
   "cell_type": "code",
   "execution_count": 10,
   "metadata": {
    "pycharm": {
     "name": "#%%\n"
    }
   },
   "outputs": [],
   "source": [
    "validation_dogs_dir = os.path.join(validation_dir, 'dogs')\n",
    "os.mkdir(validation_dogs_dir)\n"
   ]
  },
  {
   "cell_type": "markdown",
   "metadata": {
    "pycharm": {
     "name": "#%%\n"
    }
   },
   "source": [
    "### Catalogue of test set of cats"
   ]
  },
  {
   "cell_type": "code",
   "execution_count": 11,
   "metadata": {},
   "outputs": [],
   "source": [
    "test_cats_dir = os.path.join(test_dir, 'cats')\n",
    "os.mkdir(test_cats_dir)"
   ]
  },
  {
   "cell_type": "markdown",
   "metadata": {},
   "source": [
    "### Catalogue of test set of dogs"
   ]
  },
  {
   "cell_type": "code",
   "execution_count": 12,
   "metadata": {},
   "outputs": [],
   "source": [
    "test_dogs_dir = os.path.join(test_dir, 'dogs')\n",
    "os.mkdir(test_dogs_dir)"
   ]
  },
  {
   "cell_type": "markdown",
   "metadata": {},
   "source": [
    "### Copy 1000 first images of cats to train_cats_dir"
   ]
  },
  {
   "cell_type": "code",
   "execution_count": 13,
   "metadata": {},
   "outputs": [],
   "source": [
    "fnames = ['cat.{}.jpg'.format(i) for i in range(1000)]\n",
    "for fname in fnames:\n",
    "        src = os.path.join(original_dataset_dir+'/train', fname)\n",
    "        dst = os.path.join(train_cats_dir, fname)\n",
    "        shutil.copyfile(src, dst)"
   ]
  },
  {
   "cell_type": "markdown",
   "metadata": {},
   "source": [
    "### Copy 500 next images of cats to validation_cats_dir"
   ]
  },
  {
   "cell_type": "code",
   "execution_count": 14,
   "metadata": {},
   "outputs": [],
   "source": [
    "fnames = ['cat.{}.jpg'.format(i) for i in range(1500,2000)]\n",
    "for fname in fnames:\n",
    "        src = os.path.join(original_dataset_dir+'/train', fname)\n",
    "        dst = os.path.join(validation_cats_dir, fname)\n",
    "        shutil.copyfile(src, dst)"
   ]
  },
  {
   "cell_type": "markdown",
   "metadata": {},
   "source": [
    "### Copy 500 next images of cats to test_cats_dir"
   ]
  },
  {
   "cell_type": "code",
   "execution_count": 15,
   "metadata": {},
   "outputs": [],
   "source": [
    "fnames = ['cat.{}.jpg'.format(i) for i in range(2000,2500)]\n",
    "for fname in fnames:\n",
    "        src = os.path.join(original_dataset_dir+'/train', fname)\n",
    "        dst = os.path.join(test_cats_dir, fname)\n",
    "        shutil.copyfile(src, dst)"
   ]
  },
  {
   "cell_type": "markdown",
   "metadata": {},
   "source": [
    "### Copy 1000 first images of dogs to train_dogs_dir"
   ]
  },
  {
   "cell_type": "code",
   "execution_count": 16,
   "metadata": {},
   "outputs": [],
   "source": [
    "fnames = ['dog.{}.jpg'.format(i) for i in range(1000)]\n",
    "for fname in fnames:\n",
    "        src = os.path.join(original_dataset_dir+'/train', fname)\n",
    "        dst = os.path.join(train_dogs_dir, fname)\n",
    "        shutil.copyfile(src, dst)"
   ]
  },
  {
   "cell_type": "markdown",
   "metadata": {},
   "source": [
    "### Copy 500 next images of dogs to validation_dogs_dir"
   ]
  },
  {
   "cell_type": "code",
   "execution_count": 17,
   "metadata": {},
   "outputs": [],
   "source": [
    "fnames = ['dog.{}.jpg'.format(i) for i in range(1500,2000)]\n",
    "for fname in fnames:\n",
    "        src = os.path.join(original_dataset_dir+'/train', fname)\n",
    "        dst = os.path.join(validation_dogs_dir, fname)\n",
    "        shutil.copyfile(src, dst)"
   ]
  },
  {
   "cell_type": "markdown",
   "metadata": {},
   "source": [
    "### Copy 500 next images of dogs to test_dogs_dir"
   ]
  },
  {
   "cell_type": "code",
   "execution_count": 18,
   "metadata": {},
   "outputs": [],
   "source": [
    "fnames = ['dog.{}.jpg'.format(i) for i in range(2000,2500)]\n",
    "for fname in fnames:\n",
    "        src = os.path.join(original_dataset_dir+'/train', fname)\n",
    "        dst = os.path.join(test_dogs_dir, fname)\n",
    "        shutil.copyfile(src, dst)"
   ]
  },
  {
   "cell_type": "markdown",
   "metadata": {},
   "source": [
    "### Let's check how many images we have in our new dataset"
   ]
  },
  {
   "cell_type": "code",
   "execution_count": 19,
   "metadata": {},
   "outputs": [
    {
     "name": "stdout",
     "output_type": "stream",
     "text": [
      "Number of training images of cats 1000\n"
     ]
    }
   ],
   "source": [
    "print('Number of training images of cats', len(os.listdir(train_cats_dir)))"
   ]
  },
  {
   "cell_type": "code",
   "execution_count": 20,
   "metadata": {},
   "outputs": [
    {
     "name": "stdout",
     "output_type": "stream",
     "text": [
      "Number of training images of dogs 1000\n"
     ]
    }
   ],
   "source": [
    "print('Number of training images of dogs', len(os.listdir(train_dogs_dir)))"
   ]
  },
  {
   "cell_type": "code",
   "execution_count": 21,
   "metadata": {},
   "outputs": [
    {
     "name": "stdout",
     "output_type": "stream",
     "text": [
      "Number of validation images of cats 500\n"
     ]
    }
   ],
   "source": [
    "print('Number of validation images of cats', len(os.listdir(validation_cats_dir)))"
   ]
  },
  {
   "cell_type": "code",
   "execution_count": 22,
   "metadata": {},
   "outputs": [
    {
     "name": "stdout",
     "output_type": "stream",
     "text": [
      "Number of validation images of dogs 500\n"
     ]
    }
   ],
   "source": [
    "print('Number of validation images of dogs', len(os.listdir(validation_dogs_dir)))"
   ]
  },
  {
   "cell_type": "code",
   "execution_count": 23,
   "metadata": {},
   "outputs": [
    {
     "name": "stdout",
     "output_type": "stream",
     "text": [
      "Number of test images of cats 500\n"
     ]
    }
   ],
   "source": [
    "print('Number of test images of cats', len(os.listdir(test_cats_dir)))"
   ]
  },
  {
   "cell_type": "code",
   "execution_count": 24,
   "metadata": {},
   "outputs": [
    {
     "name": "stdout",
     "output_type": "stream",
     "text": [
      "Number of test images of dogs 500\n"
     ]
    }
   ],
   "source": [
    "print('Number of test images of dogs', len(os.listdir(validation_dogs_dir)))"
   ]
  },
  {
   "cell_type": "markdown",
   "metadata": {},
   "source": [
    "### Neural network creation"
   ]
  },
  {
   "cell_type": "code",
   "execution_count": 25,
   "metadata": {},
   "outputs": [],
   "source": [
    "from keras import layers\n",
    "from keras import models\n",
    "\n",
    "model = models.Sequential()\n",
    "model.add(layers.Conv2D(32, (3, 3), activation='relu',input_shape=(150, 150, 3)))\n",
    "model.add(layers.MaxPooling2D((2,2)))\n",
    "model.add(layers.Conv2D(64, (3, 3), activation='relu'))\n",
    "model.add(layers.MaxPooling2D((2,2)))\n",
    "model.add(layers.Conv2D(128, (3, 3), activation='relu'))\n",
    "model.add(layers.MaxPooling2D((2,2)))\n",
    "model.add(layers.Conv2D(128, (3, 3), activation='relu'))\n",
    "model.add(layers.MaxPooling2D((2,2)))\n",
    "model.add(layers.Flatten())\n",
    "\n",
    "model.add(layers.Dense(512, activation='relu'))\n",
    "model.add(layers.Dense(1, activation='sigmoid'))"
   ]
  },
  {
   "cell_type": "code",
   "execution_count": 26,
   "metadata": {},
   "outputs": [
    {
     "name": "stdout",
     "output_type": "stream",
     "text": [
      "Model: \"sequential\"\n",
      "_________________________________________________________________\n",
      "Layer (type)                 Output Shape              Param #   \n",
      "=================================================================\n",
      "conv2d (Conv2D)              (None, 148, 148, 32)      896       \n",
      "_________________________________________________________________\n",
      "max_pooling2d (MaxPooling2D) (None, 74, 74, 32)        0         \n",
      "_________________________________________________________________\n",
      "conv2d_1 (Conv2D)            (None, 72, 72, 64)        18496     \n",
      "_________________________________________________________________\n",
      "max_pooling2d_1 (MaxPooling2 (None, 36, 36, 64)        0         \n",
      "_________________________________________________________________\n",
      "conv2d_2 (Conv2D)            (None, 34, 34, 128)       73856     \n",
      "_________________________________________________________________\n",
      "max_pooling2d_2 (MaxPooling2 (None, 17, 17, 128)       0         \n",
      "_________________________________________________________________\n",
      "conv2d_3 (Conv2D)            (None, 15, 15, 128)       147584    \n",
      "_________________________________________________________________\n",
      "max_pooling2d_3 (MaxPooling2 (None, 7, 7, 128)         0         \n",
      "_________________________________________________________________\n",
      "flatten (Flatten)            (None, 6272)              0         \n",
      "_________________________________________________________________\n",
      "dense (Dense)                (None, 512)               3211776   \n",
      "_________________________________________________________________\n",
      "dense_1 (Dense)              (None, 1)                 513       \n",
      "=================================================================\n",
      "Total params: 3,453,121\n",
      "Trainable params: 3,453,121\n",
      "Non-trainable params: 0\n",
      "_________________________________________________________________\n"
     ]
    }
   ],
   "source": [
    "model.summary()"
   ]
  },
  {
   "cell_type": "code",
   "execution_count": 27,
   "metadata": {},
   "outputs": [],
   "source": [
    "from keras import optimizers\n",
    "\n",
    "model.compile(loss='binary_crossentropy',\n",
    "             optimizer=optimizers.RMSprop(lr=1e-4),\n",
    "             metrics=['acc'])"
   ]
  },
  {
   "cell_type": "markdown",
   "metadata": {},
   "source": [
    "### Load images with ImageDataDenerator class from Keras"
   ]
  },
  {
   "cell_type": "code",
   "execution_count": 28,
   "metadata": {},
   "outputs": [
    {
     "name": "stdout",
     "output_type": "stream",
     "text": [
      "Found 2000 images belonging to 2 classes.\n",
      "Found 1000 images belonging to 2 classes.\n"
     ]
    }
   ],
   "source": [
    "from keras.preprocessing.image import ImageDataGenerator\n",
    "\n",
    "#rescale pixel values from 0-255 to [0-1] range, because it's easier to nn to work with small inputs\n",
    "train_datagen = ImageDataGenerator(rescale=1./255)\n",
    "test_datagen = ImageDataGenerator(rescale=1./255)\n",
    "\n",
    "train_generator = train_datagen.flow_from_directory(\n",
    "    train_dir,\n",
    "    target_size=(150,150),\n",
    "    batch_size=20,\n",
    "    class_mode='binary'\n",
    ")\n",
    "\n",
    "validation_generator = train_datagen.flow_from_directory(\n",
    "    validation_dir,\n",
    "    target_size=(150,150),\n",
    "    batch_size=20,\n",
    "    class_mode='binary'\n",
    ")\n"
   ]
  },
  {
   "cell_type": "markdown",
   "metadata": {},
   "source": [
    "### Fit the model with generating batches"
   ]
  },
  {
   "cell_type": "code",
   "execution_count": 29,
   "metadata": {},
   "outputs": [
    {
     "name": "stdout",
     "output_type": "stream",
     "text": [
      "Epoch 1/30\n",
      "100/100 [==============================] - 33s 334ms/step - loss: 0.6907 - acc: 0.5410 - val_loss: 0.6810 - val_acc: 0.6130\n",
      "Epoch 2/30\n",
      "100/100 [==============================] - 32s 318ms/step - loss: 0.6702 - acc: 0.5840 - val_loss: 0.6596 - val_acc: 0.6400\n",
      "Epoch 3/30\n",
      "100/100 [==============================] - 31s 313ms/step - loss: 0.6407 - acc: 0.6320 - val_loss: 0.6292 - val_acc: 0.6550\n",
      "Epoch 4/30\n",
      "100/100 [==============================] - 31s 308ms/step - loss: 0.5987 - acc: 0.6775 - val_loss: 0.6007 - val_acc: 0.6910\n",
      "Epoch 5/30\n",
      "100/100 [==============================] - 30s 298ms/step - loss: 0.5602 - acc: 0.7085 - val_loss: 0.5845 - val_acc: 0.6860\n",
      "Epoch 6/30\n",
      "100/100 [==============================] - 30s 302ms/step - loss: 0.5212 - acc: 0.7320 - val_loss: 0.5789 - val_acc: 0.6860\n",
      "Epoch 7/30\n",
      "100/100 [==============================] - 29s 290ms/step - loss: 0.4899 - acc: 0.7670 - val_loss: 0.5718 - val_acc: 0.7130\n",
      "Epoch 8/30\n",
      "100/100 [==============================] - 31s 305ms/step - loss: 0.4641 - acc: 0.7730 - val_loss: 0.6118 - val_acc: 0.6820\n",
      "Epoch 9/30\n",
      "100/100 [==============================] - 29s 289ms/step - loss: 0.4453 - acc: 0.7920 - val_loss: 0.5615 - val_acc: 0.7170\n",
      "Epoch 10/30\n",
      "100/100 [==============================] - 29s 293ms/step - loss: 0.4066 - acc: 0.8080 - val_loss: 0.5588 - val_acc: 0.7220\n",
      "Epoch 11/30\n",
      "100/100 [==============================] - 29s 290ms/step - loss: 0.3902 - acc: 0.8295 - val_loss: 0.5507 - val_acc: 0.7410\n",
      "Epoch 12/30\n",
      "100/100 [==============================] - 29s 295ms/step - loss: 0.3698 - acc: 0.8360 - val_loss: 0.5714 - val_acc: 0.7160\n",
      "Epoch 13/30\n",
      "100/100 [==============================] - 29s 289ms/step - loss: 0.3489 - acc: 0.8500 - val_loss: 0.5550 - val_acc: 0.7460\n",
      "Epoch 14/30\n",
      "100/100 [==============================] - 29s 291ms/step - loss: 0.3209 - acc: 0.8565 - val_loss: 0.6076 - val_acc: 0.7190\n",
      "Epoch 15/30\n",
      "100/100 [==============================] - 29s 291ms/step - loss: 0.3011 - acc: 0.8690 - val_loss: 0.6047 - val_acc: 0.7220\n",
      "Epoch 16/30\n",
      "100/100 [==============================] - 29s 294ms/step - loss: 0.2691 - acc: 0.8840 - val_loss: 0.6383 - val_acc: 0.7240\n",
      "Epoch 17/30\n",
      "100/100 [==============================] - 29s 291ms/step - loss: 0.2570 - acc: 0.8920 - val_loss: 0.6523 - val_acc: 0.7160\n",
      "Epoch 18/30\n",
      "100/100 [==============================] - 29s 295ms/step - loss: 0.2298 - acc: 0.9095 - val_loss: 0.7483 - val_acc: 0.7000\n",
      "Epoch 19/30\n",
      "100/100 [==============================] - 30s 296ms/step - loss: 0.2130 - acc: 0.9150 - val_loss: 0.6457 - val_acc: 0.7370\n",
      "Epoch 20/30\n",
      "100/100 [==============================] - 30s 296ms/step - loss: 0.1946 - acc: 0.9250 - val_loss: 0.6768 - val_acc: 0.7340\n",
      "Epoch 21/30\n",
      "100/100 [==============================] - 30s 296ms/step - loss: 0.1687 - acc: 0.9400 - val_loss: 0.7075 - val_acc: 0.7280\n",
      "Epoch 22/30\n",
      "100/100 [==============================] - 29s 293ms/step - loss: 0.1542 - acc: 0.9480 - val_loss: 0.7691 - val_acc: 0.7400\n",
      "Epoch 23/30\n",
      "100/100 [==============================] - 35s 352ms/step - loss: 0.1383 - acc: 0.9525 - val_loss: 0.7359 - val_acc: 0.7270\n",
      "Epoch 24/30\n",
      "100/100 [==============================] - 32s 317ms/step - loss: 0.1202 - acc: 0.9600 - val_loss: 0.8742 - val_acc: 0.7110\n",
      "Epoch 25/30\n",
      "100/100 [==============================] - 33s 333ms/step - loss: 0.0987 - acc: 0.9690 - val_loss: 0.8107 - val_acc: 0.7310\n",
      "Epoch 26/30\n",
      "100/100 [==============================] - 32s 320ms/step - loss: 0.0885 - acc: 0.9780 - val_loss: 0.8778 - val_acc: 0.7180\n",
      "Epoch 27/30\n",
      "100/100 [==============================] - 31s 313ms/step - loss: 0.0772 - acc: 0.9730 - val_loss: 0.9487 - val_acc: 0.7210\n",
      "Epoch 28/30\n",
      "100/100 [==============================] - 31s 308ms/step - loss: 0.0634 - acc: 0.9810 - val_loss: 0.9592 - val_acc: 0.7090\n",
      "Epoch 29/30\n",
      "100/100 [==============================] - 31s 309ms/step - loss: 0.0530 - acc: 0.9865 - val_loss: 0.9686 - val_acc: 0.7340\n",
      "Epoch 30/30\n",
      "100/100 [==============================] - 31s 309ms/step - loss: 0.0453 - acc: 0.9880 - val_loss: 1.0105 - val_acc: 0.7260\n"
     ]
    }
   ],
   "source": [
    "history = model.fit(\n",
    "    train_generator,\n",
    "    steps_per_epoch=100,\n",
    "    epochs=30,\n",
    "    validation_data=validation_generator,\n",
    "    validation_steps=50\n",
    ")\n",
    "\n",
    "#model.save('cats_and_dogs_small_1.h5')"
   ]
  },
  {
   "cell_type": "code",
   "execution_count": 32,
   "metadata": {},
   "outputs": [],
   "source": [
    "model.save('/Users/dawidkubicki/Documents/dataset/cats_and_dogs_small_1.h5')"
   ]
  },
  {
   "cell_type": "markdown",
   "metadata": {},
   "source": [
    "### Plots generating with cost and validation function during the training"
   ]
  },
  {
   "cell_type": "code",
   "execution_count": 35,
   "metadata": {},
   "outputs": [
    {
     "data": {
      "image/png": "[encoded data removed]",
      "text/plain": [
       "<Figure size 432x288 with 1 Axes>"
      ]
     },
     "metadata": {
      "needs_background": "light"
     },
     "output_type": "display_data"
    },
    {
     "data": {
      "image/png": "[encoded data removed]",
      "text/plain": [
       "<Figure size 432x288 with 1 Axes>"
      ]
     },
     "metadata": {
      "needs_background": "light"
     },
     "output_type": "display_data"
    }
   ],
   "source": [
    "import matplotlib.pyplot as plt\n",
    "\n",
    "acc = history.history['acc']\n",
    "val_acc = history.history['val_acc']b\n",
    "loss = history.history['loss']\n",
    "val_loss = history.history['val_loss']\n",
    "\n",
    "epochs=range(len(acc))\n",
    "\n",
    "plt.plot(epochs, acc, 'bo', label=\"Training accuracy\")\n",
    "plt.plot(epochs, val_acc, 'b', label=\"Validation accuracy\")\n",
    "plt.title('Training and validation accuracy')\n",
    "plt.legend()\n",
    "\n",
    "plt.figure()\n",
    "\n",
    "plt.plot(epochs, loss, 'bo', label=\"Loss of training\")\n",
    "plt.plot(epochs, val_loss, 'b', label=\"Loss of validation\")\n",
    "plt.title('Loss of training and validation')\n",
    "plt.legend()\n",
    "\n",
    "plt.show()"
   ]
  },
  {
   "cell_type": "markdown",
   "metadata": {},
   "source": [
    "#### Overfitting is probably cased by too small dataset (so I'll try to use Data Augmentation)"
   ]
  },
  {
   "cell_type": "markdown",
   "metadata": {},
   "source": [
    "### Configuration of ImageDataGenerator class for data augmentation"
   ]
  },
  {
   "cell_type": "code",
   "execution_count": 36,
   "metadata": {},
   "outputs": [],
   "source": [
    "datagen = ImageDataGenerator(\n",
    "    rotation_range=40,\n",
    "    width_shift_range=0.2,\n",
    "    height_shift_range=0.2,\n",
    "    shear_range=0.2,\n",
    "    zoom_range=0.2,\n",
    "    horizontal_flip=True,\n",
    "    fill_mode='nearest'\n",
    ")"
   ]
  },
  {
   "cell_type": "markdown",
   "metadata": {},
   "source": [
    "### Displaying examples od random modified images"
   ]
  },
  {
   "cell_type": "code",
   "execution_count": 38,
   "metadata": {},
   "outputs": [
    {
     "name": "stdout",
     "output_type": "stream",
     "text": [
      "/Users/dawidkubicki/Documents/dataset/cats_and_dogs_small/train/cats/cat.952.jpg\n"
     ]
    }
   ],
   "source": [
    "from keras.preprocessing import image\n",
    "\n",
    "fnames = [os.path.join(train_cats_dir, fname) for fname in os.listdir(train_cats_dir)]\n",
    "\n",
    "img_path = fnames[3]\n",
    "\n",
    "img = image.load_img(img_path, target_size=(150,150))\n",
    "\n",
    "x=image.img_to_array(img)\n",
    "x=x.reshape((1,) + x.shape)\n",
    "\n",
    "\n",
    "# .flow() generates batches of images modified by random\n",
    "i = 0\n",
    "for batch in datagen.flow(x, batch_size=1):\n",
    "    plt.figure(i)\n",
    "    imgplot = plt.imshow(image.array_to_img(batch[0]))\n",
    "    i += 1\n",
    "    if i % 4 == 0:\n",
    "        break\n",
    "        \n",
    "plt.show()        "
   ]
  }
 ],
 "metadata": {
  "accelerator": "GPU",
  "colab": {
   "authorship_tag": "ABX9TyOw5h0eVhpllQd8xVyOFk1X",
   "collapsed_sections": [],
   "include_colab_link": true,
   "name": "kaggle-dogs-vs-cats.ipynb",
   "provenance": []
  },
  "kernelspec": {
   "display_name": "Python 3",
   "language": "python",
   "name": "python3"
  },
  "language_info": {
   "codemirror_mode": {
    "name": "ipython",
    "version": 3
   },
   "file_extension": ".py",
   "mimetype": "text/x-python",
   "name": "python",
   "nbconvert_exporter": "python",
   "pygments_lexer": "ipython3",
   "version": "3.8.5"
  }
 },
 "nbformat": 4,
 "nbformat_minor": 1
}
