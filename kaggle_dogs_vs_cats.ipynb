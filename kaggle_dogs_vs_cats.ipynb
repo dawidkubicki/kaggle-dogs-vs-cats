{
  "nbformat": 4,
  "nbformat_minor": 0,
  "metadata": {
    "colab": {
      "name": "kaggle-dogs-vs-cats.ipynb",
      "provenance": [],
      "collapsed_sections": [],
      "authorship_tag": "ABX9TyOw5h0eVhpllQd8xVyOFk1X",
      "include_colab_link": true
    },
    "kernelspec": {
      "name": "python3",
      "display_name": "Python 3"
    },
    "accelerator": "GPU"
  },
  "cells": [
    {
      "cell_type": "markdown",
      "metadata": {
        "id": "view-in-github",
        "colab_type": "text"
      },
      "source": [
        "<a href=\"https://colab.research.google.com/github/dawidkubicki/kaggle-dogs-vs-cats/blob/main/kaggle_dogs_vs_cats.ipynb\" target=\"_parent\"><img src=\"https://colab.research.google.com/assets/colab-badge.svg\" alt=\"Open In Colab\"/></a>"
      ]
    },
    {
      "cell_type": "code",
      "metadata": {
        "colab": {
          "base_uri": "https://localhost:8080/",
          "height": 35
        },
        "id": "5THuN9Ug4rDM",
        "outputId": "b81c3e01-e08f-4707-c794-e35beb949fb0"
      },
      "source": [
        "import keras\n",
        "keras.__version__"
      ],
      "execution_count": null,
      "outputs": [
        {
          "output_type": "execute_result",
          "data": {
            "application/vnd.google.colaboratory.intrinsic+json": {
              "type": "string"
            },
            "text/plain": [
              "'2.4.3'"
            ]
          },
          "metadata": {
            "tags": []
          },
          "execution_count": 1
        }
      ]
    },
    {
      "cell_type": "markdown",
      "metadata": {
        "id": "yD4y6vsr8x97"
      },
      "source": [
        "### Google Colab actions"
      ]
    },
    {
      "cell_type": "code",
      "metadata": {
        "colab": {
          "base_uri": "https://localhost:8080/"
        },
        "id": "tIclbBXM82wK",
        "outputId": "18528613-da7a-496e-b8ef-2a5d502f7f48"
      },
      "source": [
        "# from google.colab import drive\n",
        "# drive.mount('/content/gdrive')"
      ],
      "execution_count": 2,
      "outputs": [
        {
          "output_type": "stream",
          "text": [
            "Mounted at /content/gdrive\n"
          ],
          "name": "stdout"
        }
      ]
    },
    {
      "cell_type": "code",
      "metadata": {
        "colab": {
          "base_uri": "https://localhost:8080/"
        },
        "id": "txcebWUg83zq",
        "outputId": "47c85694-9405-411b-9565-9bc517211c76"
      },
      "source": [
        "import os\n",
        "\n",
        "root_dir = \"/content/gdrive/My Drive/Colab Notebooks/delepy/projects\"\n",
        "\n",
        "def create_and_set_working_directory(root_dir):\n",
        "  if os.path.isdir(root_dir) == True:\n",
        "    print(\"Path correcct 😊\")\n",
        "  else:\n",
        "    print(\"Incorrect path ☠️\")  \n",
        "    os.mkdir(root_dir)\n",
        "    print(root_dir + ' did not exist but was created.')\n",
        "  \n",
        "  # change the OS to use your project folder as the working directory\n",
        "  os.chdir(root_dir)\n",
        "\n",
        "  # create a test file to make sure it shows up in the right place\n",
        "  !touch 'WORKING_DIRECTORY_JUST_TO_TEST_FILE.txt'\n",
        "  print('\\nYour working directory was changed to ' + root_dir + \\\n",
        "        \"\\n\\nAn empty text file was created there. You can also run !pwd to confirm the current working directory.\" )\n",
        "\n",
        "create_and_set_working_directory(root_dir)"
      ],
      "execution_count": 3,
      "outputs": [
        {
          "output_type": "stream",
          "text": [
            "Path correcct 😊\n",
            "\n",
            "Your working directory was changed to /content/gdrive/My Drive/Colab Notebooks/delepy/projects\n",
            "\n",
            "An empty text file was created there. You can also run !pwd to confirm the current working directory.\n"
          ],
          "name": "stdout"
        }
      ]
    },
    {
      "cell_type": "markdown",
      "metadata": {
        "id": "mwgb-_N15Tk0"
      },
      "source": [
        "## Plan of attack\n",
        "### First of all I will train the model from the scratch. I'll use convolutional neural network on 2000 items without regularization. This will create a reference point. Then, I'll use data augmentation to increase accuracy of the model.\n",
        "#### In the end, it'll be good to try feature extraction with a previously trained network and a little bit of tunning if the final neural network."
      ]
    },
    {
      "cell_type": "code",
      "metadata": {
        "id": "qwABQxWV6Xos"
      },
      "source": [
        "import os, shutil"
      ],
      "execution_count": 1,
      "outputs": []
    }
  ]
}