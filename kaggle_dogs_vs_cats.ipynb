{
  "nbformat": 4,
  "nbformat_minor": 0,
  "metadata": {
    "colab": {
      "name": "kaggle-dogs-vs-cats.ipynb",
      "provenance": [],
      "collapsed_sections": [],
      "authorship_tag": "ABX9TyMc1wCPCIkYIbbF7b1wzmCS",
      "include_colab_link": true
    },
    "kernelspec": {
      "name": "python3",
      "display_name": "Python 3"
    },
    "accelerator": "GPU"
  },
  "cells": [
    {
      "cell_type": "markdown",
      "metadata": {
        "id": "view-in-github",
        "colab_type": "text"
      },
      "source": [
        "<a href=\"https://colab.research.google.com/github/dawidkubicki/kaggle-dogs-vs-cats/blob/main/kaggle_dogs_vs_cats.ipynb\" target=\"_parent\"><img src=\"https://colab.research.google.com/assets/colab-badge.svg\" alt=\"Open In Colab\"/></a>"
      ]
    },
    {
      "cell_type": "code",
      "metadata": {
        "colab": {
          "base_uri": "https://localhost:8080/",
          "height": 35
        },
        "id": "5THuN9Ug4rDM",
        "outputId": "b81c3e01-e08f-4707-c794-e35beb949fb0"
      },
      "source": [
        "import keras\n",
        "keras.__version__"
      ],
      "execution_count": 1,
      "outputs": [
        {
          "output_type": "execute_result",
          "data": {
            "application/vnd.google.colaboratory.intrinsic+json": {
              "type": "string"
            },
            "text/plain": [
              "'2.4.3'"
            ]
          },
          "metadata": {
            "tags": []
          },
          "execution_count": 1
        }
      ]
    },
    {
      "cell_type": "markdown",
      "metadata": {
        "id": "mwgb-_N15Tk0"
      },
      "source": [
        "## Plan of attack\n",
        "### First of all I will train the model from the scratch. I'll use convolutional neural network on 2000 items without regularization. This will create a reference point. Then, I'll use data augmentation to increase accuracy of the model.\n",
        "#### In the end, it'll be good to try feature extraction with a previously trained network and a little bit of tunning if the final neural network."
      ]
    },
    {
      "cell_type": "code",
      "metadata": {
        "id": "qwABQxWV6Xos"
      },
      "source": [
        ""
      ],
      "execution_count": null,
      "outputs": []
    }
  ]
}